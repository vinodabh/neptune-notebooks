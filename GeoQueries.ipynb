{
 "cells": [
  {
   "cell_type": "markdown",
   "source": [
    "## What does this Notebook achieve?"
   ],
   "metadata": {}
  },
  {
   "cell_type": "markdown",
   "source": [
    "Purpose-built databases provide innovative ways to build data access patterns that cannot be solved otherwise. Many customers are looking to solve their business problems by storing and integrating data across a combination of purpose-built databases. For example, we can model highly connected geospatial data as a graph and store it in Amazon Neptune. We can query such datasets quickly and at massive scale using a graph data model. Another purpose-built database, Amazon Elasticsearch (OpenSearch) Service, can store geospatial data and provide powerful geo queries in addition to its full text search capabilities.\n",
    "\n",
    "This artifact provides the code samples for combining Amazon Neptune with Amazon Elasticsearch (OpenSearch) to perform geospatial queries on a dataset that's synchronized between both purpose-built datastores.\n",
    "\n",
    "Some common uses cases where geospatial querying is required are: \n",
    "* Given an entity in the dataset, find another entity in that dataset that is located the closest to it on the surface of the earth\n",
    "* Given an entity and a geographical radius parameter, find all entities located within this radius of the given entity\n",
    "\n",
    "Answering the first question in the graph context, where the entities in question are commonly connected via edges, typically does not present computational challenges since the set of the entities eligible for analysis is typically represented by the  nodes in the graph directly connected to the starting node. \n",
    "Answering the second question without relying on a persistence layer with built-in geospatial radius query capabilities can become challenging, considering that it’s commonly factoring in all of the eligible entities in the graph.\n",
    "\n",
    "### Prerequisites\n",
    "You need an Amazon Neptune cluster to store the geospatial data in graph data model. You also need to provision a managed Amazon SageMaker notebook and attach it to the Neptune database cluster. \n",
    "You can follow the step-by-step instructions on how to configure this workload, including CloudFormation templates given in our documentation:\n",
    "* Create Neptune cluster: https://docs.aws.amazon.com/neptune/latest/userguide/get-started-create-cluster.html\n",
    "* Create a SageMaker hosted Notebook: https://docs.aws.amazon.com/neptune/latest/userguide/graph-notebooks.html\n",
    "* Also configure the Neptune to Elasticsearch integration by following this guide/CloudFormation: https://docs.aws.amazon.com/neptune/latest/userguide/full-text-search-cfn-create.html\n",
    "\n",
    "Once you have the prerequisites taken care of, you can follow along the code samples in the Jupyter Notebook to do the geospatial queries."
   ],
   "metadata": {}
  },
  {
   "cell_type": "markdown",
   "source": [
    "## Generate fictitious dataset in graph"
   ],
   "metadata": {}
  },
  {
   "cell_type": "code",
   "execution_count": null,
   "source": [
    "%%gremlin\n",
    "g.addV('distribution_center').property('dc_id', 'dc_1').property('coordinates', '40.7128,74.0060').as('nyc_dc')\n",
    ".addV('distribution_center').property('dc_id', 'dc_2').property('coordinates', '37.7749,122.4194').as('sf_dc')\n",
    ".addV('store').property('store_id', 'nyc_store_1').property('coordinates', '40.7111,74.0080')\n",
    ".property(single, 'address', '100 Main St').as('nyc_store_1')   \n",
    ".addV('store').property('store_id', 'nyc_store_2').property('coordinates', '40.8111,74.0180')\n",
    ".property(single, 'address', '100 Other St').as('nyc_store_2')   \n",
    ".addV('store').property('store_id', 'nyc_store_3').property('coordinates', '40.9111,74.0280')\n",
    ".property(single, 'address', '100 Another St').as('nyc_store_3')\n",
    ".addV('store').property('store_id', 'nyc_store_4').property('coordinates', '40.7128,74.1061')\n",
    ".property(single, 'address', '100 Here St').as('nyc_store_4')\n",
    ".addV('store').property('store_id', 'sf_store_1').property('coordinates', '37.6749,122.4194').as('sf_store_1')\n",
    ".addV('store').property('store_id', 'sf_store_2').property('coordinates', '38.6749,122.5194').as('sf_store_2')\n",
    ".addV('store').property('store_id', 'sf_store_3').property('coordinates', '37.7749,123.4194').as('sf_store_3')\n",
    ".addV('store').property('store_id', 'sf_store_4').property('coordinates', '37.8749,123.5194').as('sf_store_4')\n",
    ".addE('ships_to').from('nyc_dc').to('nyc_store_1')\n",
    ".addE('ships_to').from('nyc_dc').to('nyc_store_2')\n",
    ".addE('ships_to').from('nyc_dc').to('nyc_store_3')\n",
    ".addE('ships_to').from('nyc_dc').to('nyc_store_4')\n",
    ".addE('ships_to').from('sf_dc').to('sf_store_1')\n",
    ".addE('ships_to').from('sf_dc').to('sf_store_2')\n",
    ".addE('ships_to').from('sf_dc').to('sf_store_3')\n",
    ".addE('ships_to').from('sf_dc').to('sf_store_4')"
   ],
   "outputs": [],
   "metadata": {}
  },
  {
   "cell_type": "markdown",
   "source": [
    "## Visualize the dataset"
   ],
   "metadata": {}
  },
  {
   "cell_type": "code",
   "execution_count": 62,
   "source": [
    "%%gremlin\n",
    "g.V().hasLabel('distribution_center').bothE().otherV().path().by('dc_id').by().by(valueMap())"
   ],
   "outputs": [
    {
     "output_type": "display_data",
     "data": {
      "application/vnd.jupyter.widget-view+json": {
       "model_id": "97c1afe5742e471c8f7901121c0f5666",
       "version_major": 2,
       "version_minor": 0
      },
      "text/plain": [
       "Tab(children=(Output(layout=Layout(max_height='600px', overflow='scroll', width='100%')), Force(network=<graph…"
      ]
     },
     "metadata": {}
    }
   ],
   "metadata": {
    "scrolled": false
   }
  },
  {
   "cell_type": "markdown",
   "source": [
    "## Get stores that a distribution center is connected to"
   ],
   "metadata": {}
  },
  {
   "cell_type": "code",
   "execution_count": 63,
   "source": [
    "%%gremlin\n",
    "g.V().hasLabel('distribution_center')\n",
    ".has('dc_id', 'dc_1')\n",
    ".out('ships_to')\n",
    ".valueMap('store_id', 'coordinates')"
   ],
   "outputs": [
    {
     "output_type": "display_data",
     "data": {
      "application/vnd.jupyter.widget-view+json": {
       "model_id": "8fbba501e6fe4f539a9e208fc6c761fb",
       "version_major": 2,
       "version_minor": 0
      },
      "text/plain": [
       "Tab(children=(Output(layout=Layout(max_height='600px', overflow='scroll', width='100%')),), _titles={'0': 'Con…"
      ]
     },
     "metadata": {}
    }
   ],
   "metadata": {}
  },
  {
   "cell_type": "markdown",
   "source": [
    "## Calculate distance using haversine"
   ],
   "metadata": {}
  },
  {
   "cell_type": "code",
   "execution_count": 64,
   "source": [
    "import haversine as hs\n",
    "from haversine import Unit\n",
    "\n",
    "store1=(40.7111,74.0080) # store 1 coordinates\n",
    "store2=(40.8111,74.0180) # store 2 coordinates\n",
    "store3=(40.9111,74.0280) # store 3 coordinates\n",
    "store4=(40.7128,74.1061) # store 4 coordinates\n",
    "dc=(40.7128,74.0060) # distribution center coordinates\n",
    "print(f'store 1: {hs.haversine(dc,store1,unit=Unit.MILES)}')\n",
    "print(f'store 2: {hs.haversine(dc,store2,unit=Unit.MILES)}')\n",
    "print(f'store 3: {hs.haversine(dc,store3,unit=Unit.MILES)}')\n",
    "print(f'store 4: {hs.haversine(dc,store4,unit=Unit.MILES)}')"
   ],
   "outputs": [
    {
     "output_type": "stream",
     "name": "stdout",
     "text": [
      "store 1: 0.15737906385088177\n",
      "store 2: 6.820854822600475\n",
      "store 3: 13.749441422880885\n",
      "store 4: 5.242439610692904\n"
     ]
    }
   ],
   "metadata": {
    "scrolled": true
   }
  },
  {
   "cell_type": "markdown",
   "source": [
    "# Use Elasticsearch integration"
   ],
   "metadata": {}
  },
  {
   "cell_type": "markdown",
   "source": [
    "## Find all stores within 1 mile radius from the distribution center"
   ],
   "metadata": {}
  },
  {
   "cell_type": "code",
   "execution_count": 65,
   "source": [
    "%%bash\n",
    "curl -X GET \"https://vpc-neptune-es-bulk-2-u36uxlwsvcupuhmckq5qzqfmaa.us-east-1.es.amazonaws.com/amazon_neptune/_search?pretty\" -H 'Content-Type: application/json' -d'\n",
    "{\n",
    "  \"query\": {\n",
    "    \"bool\": {\n",
    "      \"filter\": [\n",
    "        {\n",
    "          \"term\": {\n",
    "            \"entity_type\": \"store\"\n",
    "          }\n",
    "        },\n",
    "        {\n",
    "          \"geo_distance\": {\n",
    "            \"distance\": \"1mi\",\n",
    "            \"predicates.coordinates.value\": {\n",
    "              \"lat\": 40.7128,\n",
    "              \"lon\": 74.006\n",
    "            }\n",
    "          }\n",
    "        }\n",
    "      ]\n",
    "    }\n",
    "  }\n",
    "}'"
   ],
   "outputs": [
    {
     "output_type": "stream",
     "name": "stdout",
     "text": [
      "{\n",
      "  \"took\" : 18,\n",
      "  \"timed_out\" : false,\n",
      "  \"_shards\" : {\n",
      "    \"total\" : 5,\n",
      "    \"successful\" : 5,\n",
      "    \"skipped\" : 0,\n",
      "    \"failed\" : 0\n",
      "  },\n",
      "  \"hits\" : {\n",
      "    \"total\" : {\n",
      "      \"value\" : 1,\n",
      "      \"relation\" : \"eq\"\n",
      "    },\n",
      "    \"max_score\" : 0.0,\n",
      "    \"hits\" : [\n",
      "      {\n",
      "        \"_index\" : \"amazon_neptune\",\n",
      "        \"_type\" : \"_doc\",\n",
      "        \"_id\" : \"a711d186296a7be46f448c39ece79453\",\n",
      "        \"_score\" : 0.0,\n",
      "        \"_source\" : {\n",
      "          \"entity_id\" : \"20bde10f-fcfd-d51c-bf44-a35b37bdf63d\",\n",
      "          \"document_type\" : \"vertex\",\n",
      "          \"entity_type\" : [\n",
      "            \"store\"\n",
      "          ],\n",
      "          \"predicates\" : {\n",
      "            \"store_id\" : [\n",
      "              {\n",
      "                \"value\" : \"nyc_store_1\"\n",
      "              }\n",
      "            ],\n",
      "            \"address\" : [\n",
      "              {\n",
      "                \"value\" : \"100 Main St\"\n",
      "              }\n",
      "            ],\n",
      "            \"coordinates\" : [\n",
      "              {\n",
      "                \"value\" : \"40.7111,74.0080\"\n",
      "              }\n",
      "            ]\n",
      "          }\n",
      "        }\n",
      "      }\n",
      "    ]\n",
      "  }\n",
      "}\n"
     ]
    },
    {
     "output_type": "stream",
     "name": "stderr",
     "text": [
      "  % Total    % Received % Xferd  Average Speed   Time    Time     Time  Current\n",
      "                                 Dload  Upload   Total   Spent    Left  Speed\n",
      "100  1365  100  1001  100   364  20854   7583 --:--:-- --:--:-- --:--:-- 28437\n"
     ]
    }
   ],
   "metadata": {
    "scrolled": false
   }
  },
  {
   "cell_type": "markdown",
   "source": [
    "## Fuzzy search on Address"
   ],
   "metadata": {}
  },
  {
   "cell_type": "code",
   "execution_count": 66,
   "source": [
    "%%bash\n",
    "curl -X GET \"https://vpc-neptune-es-bulk-2-u36uxlwsvcupuhmckq5qzqfmaa.us-east-1.es.amazonaws.com/amazon_neptune/_search?pretty\" -H 'Content-Type: application/json' -d'\n",
    "{\n",
    "  \"query\": {\n",
    "    \"bool\": {\n",
    "      \"filter\": [\n",
    "        {\n",
    "          \"term\": {\n",
    "            \"entity_type\": \"store\"\n",
    "          }\n",
    "        },\n",
    "        {\n",
    "          \"query_string\": {\n",
    "            \"query\": \"mazn~\",\n",
    "            \"fields\": [\"predicates.address.value\"]\n",
    "          }\n",
    "        },\n",
    "        {\n",
    "          \"geo_distance\": {\n",
    "            \"distance\": \"10mi\",\n",
    "            \"predicates.coordinates.value\": {\n",
    "              \"lat\": 40.7128,\n",
    "              \"lon\": 74.006\n",
    "            }\n",
    "          }\n",
    "        }\n",
    "      ]\n",
    "    }\n",
    "  }\n",
    "}'"
   ],
   "outputs": [
    {
     "output_type": "stream",
     "name": "stdout",
     "text": [
      "{\n",
      "  \"took\" : 13,\n",
      "  \"timed_out\" : false,\n",
      "  \"_shards\" : {\n",
      "    \"total\" : 5,\n",
      "    \"successful\" : 5,\n",
      "    \"skipped\" : 0,\n",
      "    \"failed\" : 0\n",
      "  },\n",
      "  \"hits\" : {\n",
      "    \"total\" : {\n",
      "      \"value\" : 1,\n",
      "      \"relation\" : \"eq\"\n",
      "    },\n",
      "    \"max_score\" : 0.0,\n",
      "    \"hits\" : [\n",
      "      {\n",
      "        \"_index\" : \"amazon_neptune\",\n",
      "        \"_type\" : \"_doc\",\n",
      "        \"_id\" : \"a711d186296a7be46f448c39ece79453\",\n",
      "        \"_score\" : 0.0,\n",
      "        \"_source\" : {\n",
      "          \"entity_id\" : \"20bde10f-fcfd-d51c-bf44-a35b37bdf63d\",\n",
      "          \"document_type\" : \"vertex\",\n",
      "          \"entity_type\" : [\n",
      "            \"store\"\n",
      "          ],\n",
      "          \"predicates\" : {\n",
      "            \"store_id\" : [\n",
      "              {\n",
      "                \"value\" : \"nyc_store_1\"\n",
      "              }\n",
      "            ],\n",
      "            \"address\" : [\n",
      "              {\n",
      "                \"value\" : \"100 Main St\"\n",
      "              }\n",
      "            ],\n",
      "            \"coordinates\" : [\n",
      "              {\n",
      "                \"value\" : \"40.7111,74.0080\"\n",
      "              }\n",
      "            ]\n",
      "          }\n",
      "        }\n",
      "      }\n",
      "    ]\n",
      "  }\n",
      "}\n"
     ]
    },
    {
     "output_type": "stream",
     "name": "stderr",
     "text": [
      "  % Total    % Received % Xferd  Average Speed   Time    Time     Time  Current\n",
      "                                 Dload  Upload   Total   Spent    Left  Speed\n",
      "100  1508  100  1001  100   507  23833  12071 --:--:-- --:--:-- --:--:-- 36780\n"
     ]
    }
   ],
   "metadata": {
    "scrolled": false
   }
  },
  {
   "cell_type": "markdown",
   "source": [
    "## Combine Neptune and Elasticsearch querying in Gremlin"
   ],
   "metadata": {}
  },
  {
   "cell_type": "code",
   "execution_count": 67,
   "source": [
    "%%gremlin\n",
    "g\n",
    ".withSideEffect(\"Neptune#fts.endpoint\", \"https://vpc-neptune-es-bulk-2-u36uxlwsvcupuhmckq5qzqfmaa.us-east-1.es.amazonaws.com\")\n",
    ".V().hasLabel('distribution_center')\n",
    ".has('dc_id', 'dc_1')\n",
    ".out('ships_to')\n",
    ".has(\"address\", \"Neptune#fts mazn~\")\n",
    ".valueMap()"
   ],
   "outputs": [
    {
     "output_type": "display_data",
     "data": {
      "application/vnd.jupyter.widget-view+json": {
       "model_id": "e2da124191cf4a33a213d2ba2859d20e",
       "version_major": 2,
       "version_minor": 0
      },
      "text/plain": [
       "Tab(children=(Output(layout=Layout(max_height='600px', overflow='scroll', width='100%')),), _titles={'0': 'Con…"
      ]
     },
     "metadata": {}
    }
   ],
   "metadata": {}
  }
 ],
 "metadata": {
  "kernelspec": {
   "display_name": "Python 3",
   "language": "python",
   "name": "python3"
  },
  "language_info": {
   "codemirror_mode": {
    "name": "ipython",
    "version": 3
   },
   "file_extension": ".py",
   "mimetype": "text/x-python",
   "name": "python",
   "nbconvert_exporter": "python",
   "pygments_lexer": "ipython3",
   "version": "3.6.13"
  }
 },
 "nbformat": 4,
 "nbformat_minor": 5
}